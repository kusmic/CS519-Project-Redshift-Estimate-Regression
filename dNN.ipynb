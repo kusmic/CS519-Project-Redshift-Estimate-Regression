{
 "cells": [
  {
   "cell_type": "code",
   "execution_count": 1,
   "id": "southeast-corner",
   "metadata": {},
   "outputs": [],
   "source": [
    "import torch\n",
    "from torch.utils.data import Dataset, DataLoader\n",
    "from torch import nn\n",
    "import pandas as pd\n",
    "from sklearn.preprocessing import StandardScaler\n",
    "from sklearn.model_selection import train_test_split\n",
    "from sklearn.metrics import mean_squared_error, r2_score\n",
    "import matplotlib.pyplot as plt"
   ]
  },
  {
   "cell_type": "code",
   "execution_count": 2,
   "id": "exact-mason",
   "metadata": {},
   "outputs": [],
   "source": [
    "# read in data and turn to tensor\n",
    "\n",
    "class JointDataset(Dataset):\n",
    "    def __init__(self, x, y):\n",
    "        self.x = x\n",
    "        self.y = y\n",
    "    def __len__(self):\n",
    "        return len(self.x)\n",
    "    def __getitem__(self, idx):\n",
    "        return self.x[idx], self.y[idx]\n",
    "\n",
    "df = pd.read_csv(\"mldata_log_est.csv\")\n",
    "colnames = df.columns\n",
    "X = df[colnames[:-1]].to_numpy(dtype=float)\n",
    "y = df[colnames[-1]].to_numpy(dtype=float)\n",
    "\n",
    "X_train, X_test, y_train, y_test = train_test_split(X,y, test_size=0.3)\n",
    "X_train, X_val, y_train, y_val = train_test_split(X_train, y_train, test_size=3)\n",
    "\n",
    "sc_x = StandardScaler()\n",
    "sc_y = StandardScaler()\n",
    "\n",
    "X_train_std = sc_x.fit_transform(X_train)\n",
    "y_train_std = sc_y.fit_transform(y_train.reshape(-1,1))\n",
    "\n",
    "X_val_std_tensor = torch.from_numpy(sc_x.transform(X_val))\n",
    "y_val_std_tensor = torch.from_numpy(sc_y.transform(y_val.reshape(-1,1)))\n",
    "\n",
    "X_test_std_tensor = torch.from_numpy(sc_x.transform(X_test))\n",
    "\n",
    "X_train_std_tensor = torch.from_numpy(X_train_std)\n",
    "y_train_std_tensor = torch.from_numpy(y_train_std)\n",
    "\n",
    "train_ds = JointDataset(X_train_std_tensor, y_train_std_tensor)\n",
    "\n",
    "batch_size=3 # can do 3, 9697, \n",
    "train_dl = DataLoader(dataset=train_ds, batch_size=3, shuffle=True)"
   ]
  },
  {
   "cell_type": "code",
   "execution_count": 3,
   "id": "spanish-alabama",
   "metadata": {},
   "outputs": [
    {
     "data": {
      "text/plain": [
       "False"
      ]
     },
     "execution_count": 3,
     "metadata": {},
     "output_type": "execute_result"
    }
   ],
   "source": [
    "# Just checking if my GPU has CUDA capability. It does not :/\n",
    "\n",
    "torch.cuda.is_available()"
   ]
  },
  {
   "cell_type": "code",
   "execution_count": 4,
   "id": "rocky-abortion",
   "metadata": {},
   "outputs": [],
   "source": [
    "# Making the model\n",
    "\n",
    "class zGuess_dNN(nn.Module):\n",
    "    def __init__(self):\n",
    "        super().__init__()\n",
    "        # got idea from https://github.com/christianversloot/machine-learning-articles/blob/main/how-to-create-a-neural-network-for-regression-with-pytorch.md\n",
    "        self.layers = nn.Sequential(\n",
    "            nn.Linear(7,6),\n",
    "            #nn.Sigmoid(),\n",
    "            nn.Linear(6,12),\n",
    "            #nn.Tanh(),\n",
    "            nn.Linear(12,36),\n",
    "            #nn.Dropout(p=0.5),\n",
    "            nn.Linear(36,6),\n",
    "            nn.Linear(6,1)\n",
    "        )\n",
    "    def forward(self, x):\n",
    "        return self.layers(x)\n",
    "    \n",
    "model = zGuess_dNN()\n",
    "loss_fn = nn.MSELoss(reduction='mean')\n",
    "loss_fn2= nn.MSELoss(reduction='mean')\n",
    "learning_rate = 0.001\n",
    "optimizer = torch.optim.SGD(model.parameters(), lr=learning_rate)"
   ]
  },
  {
   "cell_type": "code",
   "execution_count": 5,
   "id": "arranged-pillow",
   "metadata": {},
   "outputs": [],
   "source": [
    "# Training\n",
    "\n",
    "num_epochs = 1000\n",
    "\n",
    "mse_train_arr = []\n",
    "mse_val_arr = []\n",
    "epoch_arr = []\n",
    "for epoch in range(num_epochs):\n",
    "    for x_batch, y_batch in train_dl:\n",
    "        pred = model(x_batch.float())\n",
    "        loss = loss_fn(pred, y_batch.float())\n",
    "        loss.backward()\n",
    "        optimizer.step()\n",
    "        optimizer.zero_grad()\n",
    "        \n",
    "        mse_train_arr.append(loss.cpu().detach().numpy())\n",
    "        epoch_arr.append(epoch)\n",
    "        \n",
    "        pred2 = model(X_val_std_tensor.float())\n",
    "        loss2 = loss_fn2(pred2, y_val_std_tensor.float())\n",
    "        mse_val_arr.append(loss2.cpu().detach().numpy())"
   ]
  },
  {
   "cell_type": "code",
   "execution_count": 6,
   "id": "stretch-delivery",
   "metadata": {},
   "outputs": [
    {
     "data": {
      "text/plain": [
       "<matplotlib.legend.Legend at 0x20ca3baf640>"
      ]
     },
     "execution_count": 6,
     "metadata": {},
     "output_type": "execute_result"
    },
    {
     "name": "stderr",
     "output_type": "stream",
     "text": [
      "C:\\Users\\samir\\anaconda3\\lib\\site-packages\\IPython\\core\\pylabtools.py:132: UserWarning: Creating legend with loc=\"best\" can be slow with large amounts of data.\n",
      "  fig.canvas.print_figure(bytes_io, **kw)\n"
     ]
    },
    {
     "data": {
      "image/png": "[encoded data removed]",
      "text/plain": [
       "<Figure size 600x400 with 1 Axes>"
      ]
     },
     "metadata": {
      "needs_background": "light"
     },
     "output_type": "display_data"
    }
   ],
   "source": [
    "fig, ax = plt.subplots(1,1,dpi=100)\n",
    "ax.plot(epoch_arr, mse_train_arr, label=\"training\")\n",
    "ax.plot(epoch_arr, mse_val_arr,   label=\"crossval\")\n",
    "ax.set_xlabel(\"epoch\")\n",
    "ax.set_ylabel(\"mse\")\n",
    "ax.legend()"
   ]
  },
  {
   "cell_type": "code",
   "execution_count": 7,
   "id": "unavailable-reliance",
   "metadata": {},
   "outputs": [
    {
     "name": "stdout",
     "output_type": "stream",
     "text": [
      "0.9124168856471814\n",
      "-6.053725806348532\n"
     ]
    }
   ],
   "source": [
    "y_pred_tensor = model(X_test_std_tensor.float())\n",
    "y_pred = y_pred_tensor.cpu().detach().numpy()\n",
    "print(mean_squared_error( sc_y.inverse_transform(y_pred), y_test))\n",
    "print(r2_score( sc_y.inverse_transform(y_pred), y_test))\n",
    "\n"
   ]
  },
  {
   "cell_type": "code",
   "execution_count": null,
   "id": "linear-ambassador",
   "metadata": {},
   "outputs": [],
   "source": []
  }
 ],
 "metadata": {
  "kernelspec": {
   "display_name": "Python 3",
   "language": "python",
   "name": "python3"
  },
  "language_info": {
   "codemirror_mode": {
    "name": "ipython",
    "version": 3
   },
   "file_extension": ".py",
   "mimetype": "text/x-python",
   "name": "python",
   "nbconvert_exporter": "python",
   "pygments_lexer": "ipython3",
   "version": "3.8.5"
  }
 },
 "nbformat": 4,
 "nbformat_minor": 5
}
