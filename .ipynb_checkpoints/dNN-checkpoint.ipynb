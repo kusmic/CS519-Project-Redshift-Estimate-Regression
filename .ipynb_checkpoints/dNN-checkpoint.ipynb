{
 "cells": [
  {
   "cell_type": "code",
   "execution_count": 1,
   "id": "southeast-corner",
   "metadata": {},
   "outputs": [],
   "source": [
    "import torch\n",
    "from torch.utils.data import Dataset, DataLoader\n",
    "from torch import nn\n",
    "import pandas as pd\n",
    "from sklearn.preprocessing import StandardScaler\n",
    "from sklearn.model_selection import train_test_split\n",
    "from sklearn.metrics import mean_squared_error, r2_score\n",
    "import matplotlib.pyplot as plt"
   ]
  },
  {
   "cell_type": "code",
   "execution_count": 2,
   "id": "exact-mason",
   "metadata": {},
   "outputs": [],
   "source": [
    "# read in data and turn to tensor\n",
    "\n",
    "class JointDataset(Dataset):\n",
    "    def __init__(self, x, y):\n",
    "        self.x = x\n",
    "        self.y = y\n",
    "    def __len__(self):\n",
    "        return len(self.x)\n",
    "    def __getitem__(self, idx):\n",
    "        return self.x[idx], self.y[idx]\n",
    "\n",
    "df = pd.read_csv(\"mldata_log_est.csv\")\n",
    "colnames = df.columns\n",
    "X = df[colnames[:-1]].to_numpy(dtype=float)\n",
    "y = df[colnames[-1]].to_numpy(dtype=float)\n",
    "\n",
    "X_train, X_test, y_train, y_test = train_test_split(X,y, test_size=0.3)\n",
    "\n",
    "sc_x = StandardScaler()\n",
    "sc_y = StandardScaler()\n",
    "\n",
    "X_train_std = sc_x.fit_transform(X_train)\n",
    "y_train_std = sc_y.fit_transform(y_train.reshape(-1,1))\n",
    "\n",
    "X_test_std_tensor = torch.from_numpy(sc_x.transform(X_test))\n",
    "\n",
    "X_train_std_tensor = torch.from_numpy(X_train_std)\n",
    "y_train_std_tensor = torch.from_numpy(y_train_std)\n",
    "\n",
    "train_ds = JointDataset(X_train_std_tensor, y_train_std_tensor)\n",
    "\n",
    "batch_size=3 # can do 3, 9697, \n",
    "train_dl = DataLoader(dataset=train_ds, batch_size=3, shuffle=True)"
   ]
  },
  {
   "cell_type": "code",
   "execution_count": 3,
   "id": "spanish-alabama",
   "metadata": {},
   "outputs": [
    {
     "data": {
      "text/plain": [
       "False"
      ]
     },
     "execution_count": 3,
     "metadata": {},
     "output_type": "execute_result"
    }
   ],
   "source": [
    "# Just checking if my GPU has CUDA capability. It does not :/\n",
    "\n",
    "torch.cuda.is_available()"
   ]
  },
  {
   "cell_type": "code",
   "execution_count": 4,
   "id": "rocky-abortion",
   "metadata": {},
   "outputs": [],
   "source": [
    "# Making the model\n",
    "\n",
    "class zGuess_dNN(nn.Module):\n",
    "    def __init__(self):\n",
    "        super().__init__()\n",
    "        # got idea from https://github.com/christianversloot/machine-learning-articles/blob/main/how-to-create-a-neural-network-for-regression-with-pytorch.md\n",
    "        self.layers = nn.Sequential(\n",
    "            nn.Linear(7,64),\n",
    "            nn.Dropout(p=0.5),\n",
    "            nn.Linear(64,16),\n",
    "            nn.Dropout(p=0.5),\n",
    "            nn.Linear(16,8),\n",
    "            nn.Dropout(p=0.5),\n",
    "            nn.Linear(8,1)\n",
    "        )\n",
    "    def forward(self, x):\n",
    "        return self.layers(x)\n",
    "    \n",
    "model = zGuess_dNN()\n",
    "loss_fn = nn.CrossEntropyLoss(reduction='mean')\n",
    "learning_rate = 0.001\n",
    "optimizer = torch.optim.SGD(model.parameters(), lr=learning_rate)"
   ]
  },
  {
   "cell_type": "code",
   "execution_count": 5,
   "id": "arranged-pillow",
   "metadata": {},
   "outputs": [],
   "source": [
    "# Training\n",
    "\n",
    "num_epochs = 100\n",
    "mse_train_arr = []\n",
    "epoch_train_arr = []\n",
    "for epoch in range(num_epochs):\n",
    "    for x_batch, y_batch in train_dl:\n",
    "        pred = model(x_batch.float())\n",
    "        loss = loss_fn(pred, y_batch.float())\n",
    "        loss.backward()\n",
    "        optimizer.step()\n",
    "        optimizer.zero_grad()\n",
    "        mse_train_arr.append(loss)\n",
    "        epoch_arr.append(epoch)"
   ]
  },
  {
   "cell_type": "code",
   "execution_count": 6,
   "id": "unavailable-reliance",
   "metadata": {},
   "outputs": [
    {
     "name": "stdout",
     "output_type": "stream",
     "text": [
      "0.9636027476140815\n",
      "-6.078607093752186\n"
     ]
    }
   ],
   "source": [
    "y_pred_tensor = model(X_test_std_tensor.float())\n",
    "y_pred = y_pred_tensor.cpu().detach().numpy()\n",
    "print(mean_squared_error( sc_y.inverse_transform(y_pred), y_test))\n",
    "print(r2_score( sc_y.inverse_transform(y_pred), y_test))\n",
    "\n"
   ]
  },
  {
   "cell_type": "code",
   "execution_count": null,
   "id": "linear-ambassador",
   "metadata": {},
   "outputs": [],
   "source": []
  }
 ],
 "metadata": {
  "kernelspec": {
   "display_name": "Python 3",
   "language": "python",
   "name": "python3"
  },
  "language_info": {
   "codemirror_mode": {
    "name": "ipython",
    "version": 3
   },
   "file_extension": ".py",
   "mimetype": "text/x-python",
   "name": "python",
   "nbconvert_exporter": "python",
   "pygments_lexer": "ipython3",
   "version": "3.8.5"
  }
 },
 "nbformat": 4,
 "nbformat_minor": 5
}
